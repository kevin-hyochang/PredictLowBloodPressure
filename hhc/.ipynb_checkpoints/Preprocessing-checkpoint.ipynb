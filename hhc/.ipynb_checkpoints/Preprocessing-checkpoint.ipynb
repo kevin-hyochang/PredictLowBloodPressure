{
 "cells": [
  {
   "cell_type": "code",
   "execution_count": 1,
   "metadata": {},
   "outputs": [],
   "source": [
    "import pandas as pd\n",
    "import numpy as np\n",
    "import os\n",
    "import csv\n",
    "from sklearn.utils import shuffle"
   ]
  },
  {
   "cell_type": "code",
   "execution_count": 2,
   "metadata": {},
   "outputs": [],
   "source": [
    "# 2초 moving average\n",
    "def moving_average(a, n=200):\n",
    "    ret = np.nancumsum(a, dtype=float)\n",
    "    ret[n:] = ret[n:] - ret[:-n]\n",
    "    return ret[n - 1:] / n"
   ]
  },
  {
   "cell_type": "code",
   "execution_count": 3,
   "metadata": {},
   "outputs": [],
   "source": [
    "SRATE = 100\n",
    "MINUTES_AHEAD = 5\n",
    "MAX_CASES = 300\n",
    "TEST_NAME = 'test1'"
   ]
  },
  {
   "cell_type": "code",
   "execution_count": 4,
   "metadata": {},
   "outputs": [],
   "source": [
    "# 전체 art 케이스를 로딩\n",
    "# 제외 기준, 포함 기준은 다 포함 되어있음\n",
    "df_cases = pd.read_csv(\"train_cases1.csv\")\n",
    "#df_cases = shuffle(df_cases)"
   ]
  },
  {
   "cell_type": "code",
   "execution_count": 5,
   "metadata": {},
   "outputs": [
    {
     "data": {
      "text/plain": [
       "16928"
      ]
     },
     "execution_count": 5,
     "metadata": {},
     "output_type": "execute_result"
    }
   ],
   "source": [
    "# 최종 데이터셋 출력 파일 생성\n",
    "fo = csv.writer(open('{}.csv'.format(TEST_NAME), 'w', newline=''), quoting=csv.QUOTE_MINIMAL)\n",
    "row = ['hypotension', 'age', 'sex', 'weight', 'height']\n",
    "for i in range(2000):\n",
    "    row.append('abp_{}'.format(i+1))\n",
    "fo.writerow(row)"
   ]
  },
  {
   "cell_type": "code",
   "execution_count": 6,
   "metadata": {
    "scrolled": true
   },
   "outputs": [
    {
     "name": "stdout",
     "output_type": "stream",
     "text": [
      "1...[ -8.8  -7.8  -7.8 ...  13.9  -0.9 -13.7] 1154030\n",
      "1: 226 (10.2%)\n",
      "4...[-3.9 -3.9 -3.9 ...  1.1  1.1  1.1] 2098939\n",
      "4: 441 (0.0%)\n",
      "7...[-3.9 -3.9 -3.9 ... -5.8 -5.8 -5.8] 1576924\n",
      "7: 301 (0.0%)\n",
      "10...[-17.7 -17.7 -17.7 ...   2.1   2.1   2.1] 2098809\n",
      "10: 489 (8.4%)\n",
      "13...[-11.8 -11.8 -11.8 ...  -1.9  -2.9  -1.9] 1081034\n",
      "13: 106 (19.8%)\n",
      "16...[  3.    2.1   2.1 ...  21.8 -18.7  28.7] 1286410\n",
      "16: 312 (1.3%)\n",
      "17...[-7.8 -7.8 -7.8 ... -4.9 -3.9 -3.9] 2036829\n",
      "17: 115 (27.0%)\n",
      "19...[ -2.9  -2.9  -2.9 ...  32.7 -14.7  11.9] 2757104\n",
      "19: 440 (15.5%)\n",
      "20...[-0.9  0.1 -0.9 ...  5.   5.   4. ] 2647429\n",
      "20: 653 (0.2%)\n",
      "22...[-23.6 -22.6 -22.6 ... -11.8 -11.8 -10.8] 1437210\n",
      "22: 320 (0.0%)\n",
      "24...[-4.956e+02 -4.956e+02 -4.956e+02 ...  1.000e-01  1.000e-01  1.000e-01] 648818\n",
      "caselen < 2\n",
      "25...[  2.1   2.1   2.1 ... -22.6  27.7 -12.8] 1483206\n",
      "25: 381 (0.5%)\n",
      "26...[3.  3.  4.  ... 3.  4.  2.1] 1070814\n",
      "26: 162 (0.0%)\n",
      "27...[1.1 1.1 1.1 ... 1.1 1.1 1.1] 1786893\n",
      "27: 451 (1.1%)\n",
      "28...[4. 4. 4. ... 5. 5. 4.] 2690152\n",
      "28: 657 (0.2%)\n",
      "29...[ 4.   5.   5.  ... -2.9 -5.8 28.7] 2139209\n",
      "29: 585 (0.0%)\n",
      "31...[-4.9 -4.9 -5.8 ...  5.   5.   5. ] 1041498\n",
      "31: 243 (0.0%)\n",
      "34...[ -0.9   0.1   0.1 ... -20.7  35.6 -24.6] 2377221\n",
      "34: 626 (0.0%)\n",
      "38...[1.1 2.1 2.1 ... 3.  3.  3. ] 1228938\n",
      "38: 204 (0.0%)\n",
      "41...[36.6 24.8 11.9 ... -3.9 -4.9 -4.9] 1182810\n",
      "41: 284 (0.0%)\n",
      "43...[-9.8 -9.8 -9.8 ... -2.9 -3.9 -2.9] 1478403\n",
      "43: 251 (28.3%)\n",
      "44...[ 9. 10.  9. ...  5.  4.  5.] 1460983\n",
      "44: 380 (0.3%)\n",
      "46...[4. 4. 4. ... 5. 5. 5.] 1061160\n",
      "46: 232 (0.0%)\n",
      "49...[-11.8 -11.8 -11.8 ...  -9.8  -9.8  -9.8] 1250828\n",
      "49: 216 (1.4%)\n",
      "50...[ -8.8  -3.9  23.8 ... -29.5  20.8  -9.8] 1598250\n",
      "50: 356 (3.1%)\n",
      "51...[-9.8 -9.8 -9.8 ...  1.1  2.1  2.1] 868628\n",
      "51: 215 (0.0%)\n",
      "53...[-0.9 -0.9 -0.9 ... -0.9  0.1 -0.9] 1353473\n",
      "53: 318 (0.0%)\n",
      "56...[ -49.3  -48.3  -49.3 ... -344.5 -343.6 -343.6] 2916018\n",
      "59...[ 4.   4.   4.  ... 26.7 -5.8 -1.9] 334979\n",
      "caselen < 2\n",
      "61...[-5.8 -5.8 -5.8 ... -3.9 -3.9 -3.9] 928899\n",
      "61: 173 (12.1%)\n",
      "64...[-19.7 -19.7 -18.7 ...  10.9 -20.7  25.8] 1442210\n",
      "64: 332 (2.7%)\n",
      "65...[-12.8 -12.8 -12.8 ...   2.1   2.1   1.1] 1284560\n",
      "65: 301 (0.0%)\n",
      "66...[-16.7 -17.7 -17.7 ... 204.5 204.5 204.5] 926214\n",
      "66: 206 (0.5%)\n",
      "67...[4. 4. 5. ... 4. 5. 4.] 1158946\n",
      "67: 204 (1.0%)\n",
      "68...[-5.8 -6.8 -6.8 ... -1.9 -1.9 -0.9] 877899\n",
      "68: 157 (0.0%)\n",
      "69...[-4.9 -3.9 -4.9 ...  5.   4.   4. ] 736187\n",
      "69: 165 (0.0%)\n",
      "70...[  0.1  -0.9   0.1 ... -29.5  27.7 -10.8] 1414410\n",
      "70: 298 (0.0%)\n",
      "74...[-33.5 -33.5 -33.5 ...  -5.8  -5.8  -6.8] 1989577\n",
      "74: 442 (0.0%)\n",
      "75...[-3.9 -4.9 -3.9 ...  5.   5.   5. ] 2512187\n",
      "75: 429 (1.4%)\n",
      "77...[35.6 36.6 30.7 ...  5.   5.   6. ] 1076319\n",
      "77: 267 (0.0%)\n",
      "79...[  4.    3.    3.  ... -32.5  26.7 -10.8] 2017874\n",
      "79: 514 (3.7%)\n",
      "84...[-15.7 -14.7 -14.7 ...   2.1   1.1   2.1] 1771309\n",
      "84: 512 (0.8%)\n",
      "87...[112.6 108.7 102.8 ...  27.7 -15.7  -2.9] 1122710\n",
      "87: 139 (43.2%)\n",
      "89...[  2.1   2.1   2.1 ...   5.    9.  -22.6] 1982332\n",
      "89: 535 (0.0%)\n",
      "92...[  -5.8   -5.8 -495.6 ...   -5.8   -6.8   -5.8] 471877\n",
      "caselen < 2\n",
      "93...[-15.7 -14.7 -14.7 ...  -2.9  -3.9  -2.9] 413504\n",
      "caselen < 2\n",
      "94...[267.7 267.7 267.7 ... 318.  318.  318. ] 2890896\n",
      "94: 572 (9.8%)\n",
      "96...[-398.9 -399.8 -398.9 ...  -52.3  -52.3  -52.3] 3797351\n",
      "96: 928 (1.7%)\n",
      "98...[-495.6  -18.7  -19.7 ...   -3.9   -3.9   -3.9] 723418\n",
      "98: 134 (0.0%)\n",
      "101...[-19.7  20.8  -1.9 ...  23.8 -10.8 -13.7] 1318762\n",
      "101: 347 (0.0%)\n"
     ]
    }
   ],
   "source": [
    "# 각 case를 돌면서\n",
    "ncase = 0\n",
    "np.errstate(invalid='ignore')\n",
    "for _, row in df_cases.iterrows():\n",
    "    caseid = row['caseid']\n",
    "    age = row['age']\n",
    "    sex = row['sex']\n",
    "    height = row['height']\n",
    "    weight = row['weight']\n",
    "\n",
    "    print('{}...'.format(caseid), flush=True, end='')\n",
    "\n",
    "    # load wav data\n",
    "    vals = pd.read_csv('train_data/'+str(caseid)+'.csv', na_values=['nan','-nan(ind)']).values[:,0].astype(float)\n",
    "    print(vals,len(vals))\n",
    "    if len(vals) < 2 * 3600 * 100:\n",
    "        print('caselen < 2')\n",
    "        continue\n",
    "\n",
    "    # 앞 뒤의 결측값을 제거\n",
    "    case_valid_mask = ~np.isnan(vals)\n",
    "    vals = vals[(np.cumsum(case_valid_mask) != 0) & (np.cumsum(case_valid_mask[::-1])[::-1] != 0)]\n",
    "\n",
    "    if np.nanmax(vals) < 120:\n",
    "        print('mbp < 120')\n",
    "        continue\n",
    "\n",
    "    # 20sec (20 00) - 5min (300 00) - 1min (60 00) = 38000 sample\n",
    "    i = 0\n",
    "    nsamp = 0\n",
    "    nevent = 0\n",
    "    while i < len(vals) - SRATE * (20 + (1 + MINUTES_AHEAD) * 60):\n",
    "        segx = vals[i:i + SRATE * 20]\n",
    "        segy = vals[i + SRATE * (20 + MINUTES_AHEAD * 60):i + SRATE * (20 + (1 + MINUTES_AHEAD) * 60)]\n",
    "\n",
    "        # 결측값 10% 이상이면\n",
    "        if np.mean(np.isnan(segx)) > 0.1 or \\\n",
    "            np.mean(np.isnan(segy)) > 0.1 or \\\n",
    "            np.nanmax(segx) > 200 or np.nanmin(segx) < 20 or \\\n",
    "            np.nanmax(segy) > 200 or np.nanmin(segy) < 20 or \\\n",
    "            np.nanmax(segx) - np.nanmin(segx) < 30 or \\\n",
    "            np.nanmax(segy) - np.nanmin(segy) < 30 or \\\n",
    "            (np.abs(np.diff(segx[~np.isnan(segx)])) > 30).any() or \\\n",
    "            (np.abs(np.diff(segy[~np.isnan(segy)])) > 30).any():\n",
    "            i += SRATE  # 1 sec 씩 전진\n",
    "            continue\n",
    "\n",
    "        # 출력 변수\n",
    "        segy = moving_average(segy, 2 * SRATE)  # 2 sec moving avg\n",
    "        event = 1 if np.nanmax(segy) < 65 else 0\n",
    "\n",
    "        if event:  # event\n",
    "            row = [event, age, sex, weight, height]\n",
    "            row.extend(np.round(segx, 2))\n",
    "            fo.writerow(row)\n",
    "            nevent += 1\n",
    "            nsamp += 1\n",
    "        elif np.nanmin(segy) > 65:  # non event\n",
    "            row = [event, age, sex, weight, height]\n",
    "            row.extend(np.round(segx, 2))\n",
    "            fo.writerow(row)\n",
    "            nsamp += 1\n",
    "\n",
    "        i += 30 * SRATE  # 30sec\n",
    "\n",
    "    if nsamp > 0:\n",
    "        print('{}: {} ({:.1f}%)'.format(caseid, nsamp, nevent * 100 / nsamp))\n",
    "        ncase += 1\n",
    "\n",
    "    if ncase >= MAX_CASES:\n",
    "        break\n"
   ]
  },
  {
   "cell_type": "code",
   "execution_count": 7,
   "metadata": {},
   "outputs": [],
   "source": [
    "# 데이터를 다시 읽고\n",
    "df = pd.read_csv('{}.csv'.format(TEST_NAME))\n",
    "#df = shuffle(df)  # 무작위 배치"
   ]
  },
  {
   "cell_type": "code",
   "execution_count": 8,
   "metadata": {},
   "outputs": [],
   "source": [
    "# 분리하여 저장\n",
    "df['hypotension'].to_csv('{}_y.csv'.format(TEST_NAME), header=False, index=False)\n",
    "df.drop(columns='hypotension').to_csv('{}_x.csv'.format(TEST_NAME), index=False)"
   ]
  },
  {
   "cell_type": "code",
   "execution_count": null,
   "metadata": {},
   "outputs": [],
   "source": []
  },
  {
   "cell_type": "code",
   "execution_count": null,
   "metadata": {},
   "outputs": [],
   "source": []
  }
 ],
 "metadata": {
  "kernelspec": {
   "display_name": "Python 3",
   "language": "python",
   "name": "python3"
  },
  "language_info": {
   "codemirror_mode": {
    "name": "ipython",
    "version": 3
   },
   "file_extension": ".py",
   "mimetype": "text/x-python",
   "name": "python",
   "nbconvert_exporter": "python",
   "pygments_lexer": "ipython3",
   "version": "3.7.7"
  }
 },
 "nbformat": 4,
 "nbformat_minor": 4
}
