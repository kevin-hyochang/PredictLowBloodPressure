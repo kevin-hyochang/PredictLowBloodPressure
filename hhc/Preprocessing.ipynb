{
 "cells": [
  {
   "cell_type": "code",
   "execution_count": 2,
   "metadata": {},
   "outputs": [],
   "source": [
    "import pandas as pd\n",
    "import numpy as np\n",
    "import os\n",
    "import csv\n",
    "from sklearn.utils import shuffle"
   ]
  },
  {
   "cell_type": "code",
   "execution_count": 3,
   "metadata": {},
   "outputs": [],
   "source": [
    "# 2초 moving average\n",
    "def moving_average(a, n=200):\n",
    "    ret = np.nancumsum(a, dtype=float)\n",
    "    ret[n:] = ret[n:] - ret[:-n]\n",
    "    return ret[n - 1:] / n"
   ]
  },
  {
   "cell_type": "code",
   "execution_count": 4,
   "metadata": {},
   "outputs": [],
   "source": [
    "SRATE = 100\n",
    "MINUTES_AHEAD = 5\n",
    "MAX_CASES = 300\n",
    "TEST_NAME = 'test1'"
   ]
  },
  {
   "cell_type": "code",
   "execution_count": 6,
   "metadata": {},
   "outputs": [],
   "source": [
    "# 전체 art 케이스를 로딩\n",
    "# 제외 기준, 포함 기준은 다 포함 되어있음\n",
    "df_cases = pd.read_csv(\"train_cases1.csv\")\n",
    "df_cases = shuffle(df_cases)"
   ]
  },
  {
   "cell_type": "code",
   "execution_count": 7,
   "metadata": {},
   "outputs": [
    {
     "data": {
      "text/plain": [
       "16928"
      ]
     },
     "execution_count": 7,
     "metadata": {},
     "output_type": "execute_result"
    }
   ],
   "source": [
    "# 최종 데이터셋 출력 파일 생성\n",
    "fo = csv.writer(open('{}.csv'.format(TEST_NAME), 'w', newline=''), quoting=csv.QUOTE_MINIMAL)\n",
    "row = ['hypotension', 'age', 'sex', 'weight', 'height']\n",
    "for i in range(2000):\n",
    "    row.append('abp_{}'.format(i+1))\n",
    "fo.writerow(row)"
   ]
  },
  {
   "cell_type": "code",
   "execution_count": 16,
   "metadata": {},
   "outputs": [
    {
     "name": "stdout",
     "output_type": "stream",
     "text": [
      "4...[-3.9 -3.9 -3.9 ...  1.1  1.1  1.1] 2098939\n",
      "4: 441 (0.0%)\n",
      "7...[-3.9 -3.9 -3.9 ... -5.8 -5.8 -5.8] 1576924\n",
      "7: 301 (0.0%)\n",
      "1...[ -8.8  -7.8  -7.8 ...  13.9  -0.9 -13.7] 1154030\n",
      "1: 226 (10.2%)\n"
     ]
    }
   ],
   "source": [
    "# 각 case를 돌면서\n",
    "ncase = 0\n",
    "np.errstate(invalid='ignore')\n",
    "for _, row in df_cases.iterrows():\n",
    "    caseid = row['caseid']\n",
    "    age = row['age']\n",
    "    sex = row['sex']\n",
    "    height = row['height']\n",
    "    weight = row['weight']\n",
    "\n",
    "\n",
    "    print('{}...'.format(caseid), flush=True, end='')\n",
    "\n",
    "    # load wav data\n",
    "    vals = pd.read_csv('train_data/'+str(caseid)+'.csv', na_values=['nan','-nan(ind)']).values[:,0].astype(float)\n",
    "    print(vals,len(vals))\n",
    "    if len(vals) < 2 * 3600 * 100:\n",
    "        print('caselen < 2')\n",
    "        continue\n",
    "\n",
    "    # 앞 뒤의 결측값을 제거\n",
    "    case_valid_mask = ~np.isnan(vals)\n",
    "    vals = vals[(np.cumsum(case_valid_mask) != 0) & (np.cumsum(case_valid_mask[::-1])[::-1] != 0)]\n",
    "\n",
    "    if np.nanmax(vals) < 120:\n",
    "        print('mbp < 120')\n",
    "        continue\n",
    "\n",
    "    # 20sec (20 00) - 5min (300 00) - 1min (60 00) = 38000 sample\n",
    "    i = 0\n",
    "    nsamp = 0\n",
    "    nevent = 0\n",
    "    while i < len(vals) - SRATE * (20 + (1 + MINUTES_AHEAD) * 60):\n",
    "        segx = vals[i:i + SRATE * 20]\n",
    "        segy = vals[i + SRATE * (20 + MINUTES_AHEAD * 60):i + SRATE * (20 + (1 + MINUTES_AHEAD) * 60)]\n",
    "\n",
    "        # 결측값 10% 이상이면\n",
    "        if np.mean(np.isnan(segx)) > 0.1 or \\\n",
    "            np.mean(np.isnan(segy)) > 0.1 or \\\n",
    "            np.nanmax(segx) > 200 or np.nanmin(segx) < 20 or \\\n",
    "            np.nanmax(segy) > 200 or np.nanmin(segy) < 20 or \\\n",
    "            np.nanmax(segx) - np.nanmin(segx) < 30 or \\\n",
    "            np.nanmax(segy) - np.nanmin(segy) < 30 or \\\n",
    "            (np.abs(np.diff(segx[~np.isnan(segx)])) > 30).any() or \\\n",
    "            (np.abs(np.diff(segy[~np.isnan(segy)])) > 30).any():\n",
    "            i += SRATE  # 1 sec 씩 전진\n",
    "            continue\n",
    "\n",
    "        # 출력 변수\n",
    "        segy = moving_average(segy, 2 * SRATE)  # 2 sec moving avg\n",
    "        event = 1 if np.nanmax(segy) < 65 else 0\n",
    "\n",
    "        if event:  # event\n",
    "            row = [event, age, sex, weight, height]\n",
    "            row.extend(np.round(segx, 2))\n",
    "            fo.writerow(row)\n",
    "            nevent += 1\n",
    "            nsamp += 1\n",
    "        elif np.nanmin(segy) > 65:  # non event\n",
    "            row = [event, age, sex, weight, height]\n",
    "            row.extend(np.round(segx, 2))\n",
    "            fo.writerow(row)\n",
    "            nsamp += 1\n",
    "\n",
    "        i += 30 * SRATE  # 30sec\n",
    "\n",
    "    if nsamp > 0:\n",
    "        print('{}: {} ({:.1f}%)'.format(caseid, nsamp, nevent * 100 / nsamp))\n",
    "        ncase += 1\n",
    "\n",
    "    if ncase >= MAX_CASES:\n",
    "        break\n"
   ]
  },
  {
   "cell_type": "code",
   "execution_count": 17,
   "metadata": {},
   "outputs": [],
   "source": [
    "# 데이터를 다시 읽고\n",
    "df = pd.read_csv('{}.csv'.format(TEST_NAME))\n",
    "df = shuffle(df)  # 무작위 배치"
   ]
  },
  {
   "cell_type": "code",
   "execution_count": 18,
   "metadata": {},
   "outputs": [],
   "source": [
    "# 분리하여 저장\n",
    "df['hypotension'].to_csv('{}_y.csv'.format(TEST_NAME), header=False, index=False)\n",
    "df.drop(columns='hypotension').to_csv('{}_x.csv'.format(TEST_NAME), index=False)"
   ]
  },
  {
   "cell_type": "code",
   "execution_count": null,
   "metadata": {},
   "outputs": [],
   "source": []
  },
  {
   "cell_type": "code",
   "execution_count": null,
   "metadata": {},
   "outputs": [],
   "source": []
  }
 ],
 "metadata": {
  "kernelspec": {
   "display_name": "Python 3",
   "language": "python",
   "name": "python3"
  },
  "language_info": {
   "codemirror_mode": {
    "name": "ipython",
    "version": 3
   },
   "file_extension": ".py",
   "mimetype": "text/x-python",
   "name": "python",
   "nbconvert_exporter": "python",
   "pygments_lexer": "ipython3",
   "version": "3.7.7"
  }
 },
 "nbformat": 4,
 "nbformat_minor": 4
}
